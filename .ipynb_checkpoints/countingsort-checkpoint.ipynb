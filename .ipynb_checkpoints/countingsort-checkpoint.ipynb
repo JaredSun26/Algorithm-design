{
 "cells": [
  {
   "cell_type": "code",
   "execution_count": 61,
   "metadata": {
    "collapsed": true
   },
   "outputs": [],
   "source": [
    "#counting sort\n",
    "def countingsort(A, k):\n",
    "    #Assuming elements in A are integers in [0, k]\n",
    "    C = [0]*(k+1)\n",
    "    B = [0]*len(A)\n",
    "    for a in A:\n",
    "        C[a]+=1\n",
    "    for i in range(1,k+1):\n",
    "        C[i]= C[i]+C[i-1]\n",
    "    for a in A[::-1]:\n",
    "        B[C[a]-1] = a\n",
    "        C[a]-=1\n",
    "    return(B)"
   ]
  },
  {
   "cell_type": "code",
   "execution_count": 62,
   "metadata": {
    "collapsed": false
   },
   "outputs": [
    {
     "data": {
      "text/plain": [
       "[0, 0, 2, 2, 3, 3, 3, 5]"
      ]
     },
     "execution_count": 62,
     "metadata": {},
     "output_type": "execute_result"
    }
   ],
   "source": [
    "A=[2,5,3,0,2,3,0,3]\n",
    "countingsort(A, 5)"
   ]
  }
 ],
 "metadata": {
  "anaconda-cloud": {},
  "kernelspec": {
   "display_name": "Python [Root]",
   "language": "python",
   "name": "Python [Root]"
  },
  "language_info": {
   "codemirror_mode": {
    "name": "ipython",
    "version": 3
   },
   "file_extension": ".py",
   "mimetype": "text/x-python",
   "name": "python",
   "nbconvert_exporter": "python",
   "pygments_lexer": "ipython3",
   "version": "3.5.2"
  }
 },
 "nbformat": 4,
 "nbformat_minor": 0
}
