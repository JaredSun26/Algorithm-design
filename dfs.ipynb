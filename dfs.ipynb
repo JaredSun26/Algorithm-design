{
 "cells": [
  {
   "cell_type": "code",
   "execution_count": 1,
   "metadata": {
    "collapsed": true
   },
   "outputs": [],
   "source": [
    "class Node(object):\n",
    "    def __init__(self, i, color, pi):\n",
    "        self.i = i\n",
    "        self.c = color\n",
    "        self.pi = pi\n",
    "        self.adj = []"
   ]
  },
  {
   "cell_type": "code",
   "execution_count": 2,
   "metadata": {
    "collapsed": true
   },
   "outputs": [],
   "source": [
    "class Graph(object):\n",
    "    def __init__(self, V, E):\n",
    "        self.V = V\n",
    "        self.E = E"
   ]
  },
  {
   "cell_type": "code",
   "execution_count": 7,
   "metadata": {
    "collapsed": false
   },
   "outputs": [],
   "source": [
    "def DFS(G):\n",
    "    for u in G.V:\n",
    "        u.c = 0\n",
    "        u.pi = None\n",
    "    for u in G.V:\n",
    "        if u.c == 0:\n",
    "            DFS_visit(G, u)\n",
    "def DFS_visit(G, u):\n",
    "    u.c = 1\n",
    "    for v in u.adj:\n",
    "        if v.c == 0:\n",
    "            v.pi = u\n",
    "            DFS_visit(G, v)\n",
    "    u.c = 2"
   ]
  },
  {
   "cell_type": "code",
   "execution_count": 8,
   "metadata": {
    "collapsed": false
   },
   "outputs": [],
   "source": [
    "a = Node(1, 0, None)\n",
    "b = Node(2, 0, None)\n",
    "c = Node(3, 0, None)\n",
    "d = Node(4, 0, None)\n",
    "e = Node(5, 0, None)\n",
    "a.adj = [b,c,e]\n",
    "b.adj = [d,e]\n",
    "c.adj = [d]\n",
    "d.adj = []\n",
    "e.adj = [d]"
   ]
  },
  {
   "cell_type": "code",
   "execution_count": 9,
   "metadata": {
    "collapsed": true
   },
   "outputs": [],
   "source": [
    "G = Graph([a,b,c,d,e], None)"
   ]
  },
  {
   "cell_type": "code",
   "execution_count": 10,
   "metadata": {
    "collapsed": false
   },
   "outputs": [],
   "source": [
    "DFS(G)"
   ]
  },
  {
   "cell_type": "raw",
   "metadata": {},
   "source": [
    "#iteration implementation using a stack\n",
    "def dfs(graph, start):\n",
    "    visited, stack = set(), [start]\n",
    "    while stack:\n",
    "        vertex = stack.pop()\n",
    "        if vertex not in visited:\n",
    "            visited.add(vertex)\n",
    "            stack.extend(graph[vertex] - visited)\n",
    "    return visited"
   ]
  }
 ],
 "metadata": {
  "kernelspec": {
   "display_name": "Python [Root]",
   "language": "python",
   "name": "Python [Root]"
  },
  "language_info": {
   "codemirror_mode": {
    "name": "ipython",
    "version": 3
   },
   "file_extension": ".py",
   "mimetype": "text/x-python",
   "name": "python",
   "nbconvert_exporter": "python",
   "pygments_lexer": "ipython3",
   "version": "3.5.2"
  }
 },
 "nbformat": 4,
 "nbformat_minor": 0
}
