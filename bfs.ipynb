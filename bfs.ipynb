{
 "cells": [
  {
   "cell_type": "code",
   "execution_count": 11,
   "metadata": {
    "collapsed": true
   },
   "outputs": [],
   "source": [
    "#implement a queue\n",
    "class Queue(object):\n",
    "    def __init__(self):\n",
    "        self.items = []\n",
    "    def enqueue(self, element):\n",
    "        self.items.append(element)\n",
    "    def dequeue(self):\n",
    "        self.items.pop(0)\n",
    "    def getlen(self):\n",
    "        return(len(self.items))"
   ]
  },
  {
   "cell_type": "code",
   "execution_count": 12,
   "metadata": {
    "collapsed": true
   },
   "outputs": [],
   "source": [
    "class Node(object):\n",
    "    def __init__(self, i, color, d, pi):\n",
    "        self.i = i\n",
    "        self.c = color\n",
    "        self.d = d\n",
    "        self.pi = pi\n",
    "        self.adj = []"
   ]
  },
  {
   "cell_type": "code",
   "execution_count": 13,
   "metadata": {
    "collapsed": true
   },
   "outputs": [],
   "source": [
    "class Graph(object):\n",
    "    def __init__(self, V, E):\n",
    "        self.V = V\n",
    "        self.E = E"
   ]
  },
  {
   "cell_type": "code",
   "execution_count": 14,
   "metadata": {
    "collapsed": true
   },
   "outputs": [],
   "source": [
    "def BFS(G, s):\n",
    "    for u in G.V:\n",
    "        u.c = 0\n",
    "        u.d = float(\"Inf\")\n",
    "        u.pi = None\n",
    "    s.c = 1\n",
    "    s.d = 0\n",
    "    Q = Queue()\n",
    "    Q.enqueue(s)\n",
    "    while Q.getlen != 0:\n",
    "        u = Q.dequeue()\n",
    "        for v in u.adj:\n",
    "            if v.c == 0:\n",
    "                v.c = 1\n",
    "                v.d = u.d+1\n",
    "                v.pi = u\n",
    "                Q.enqueue(v)\n",
    "        u.c = 2"
   ]
  },
  {
   "cell_type": "code",
   "execution_count": null,
   "metadata": {
    "collapsed": true
   },
   "outputs": [],
   "source": []
  }
 ],
 "metadata": {
  "kernelspec": {
   "display_name": "Python [Root]",
   "language": "python",
   "name": "Python [Root]"
  },
  "language_info": {
   "codemirror_mode": {
    "name": "ipython",
    "version": 3
   },
   "file_extension": ".py",
   "mimetype": "text/x-python",
   "name": "python",
   "nbconvert_exporter": "python",
   "pygments_lexer": "ipython3",
   "version": "3.5.2"
  }
 },
 "nbformat": 4,
 "nbformat_minor": 0
}
