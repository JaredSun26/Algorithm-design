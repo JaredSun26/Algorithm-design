{
 "cells": [
  {
   "cell_type": "code",
   "execution_count": 1,
   "metadata": {
    "collapsed": true
   },
   "outputs": [],
   "source": [
    "#implement a queue\n",
    "class Queue(object):\n",
    "    def __init__(self):\n",
    "        self.items = []\n",
    "    def enqueue(self, element):\n",
    "        self.items.append(element)\n",
    "    def dequeue(self):\n",
    "        return(self.items.pop(0))\n",
    "    def getlen(self):\n",
    "        return(len(self.items))"
   ]
  },
  {
   "cell_type": "code",
   "execution_count": 2,
   "metadata": {
    "collapsed": true
   },
   "outputs": [],
   "source": [
    "class Node(object):\n",
    "    def __init__(self, i, color, d, pi):\n",
    "        self.i = i\n",
    "        self.c = color\n",
    "        self.d = d\n",
    "        self.pi = pi\n",
    "        self.adj = []"
   ]
  },
  {
   "cell_type": "code",
   "execution_count": 3,
   "metadata": {
    "collapsed": true
   },
   "outputs": [],
   "source": [
    "class Graph(object):\n",
    "    def __init__(self, V, E):\n",
    "        self.V = V\n",
    "        self.E = E"
   ]
  },
  {
   "cell_type": "code",
   "execution_count": 4,
   "metadata": {
    "collapsed": true
   },
   "outputs": [],
   "source": [
    "def BFS(G, s):\n",
    "    for u in G.V:\n",
    "        u.c = 0\n",
    "        u.d = float(\"Inf\")\n",
    "        u.pi = None\n",
    "    s.c = 1\n",
    "    s.d = 0\n",
    "    s.pi = None\n",
    "    Q = Queue()\n",
    "    Q.enqueue(s)\n",
    "    while Q.getlen() != 0:\n",
    "        u = Q.dequeue()\n",
    "        for v in u.adj:\n",
    "            if v.c == 0:\n",
    "                v.c = 1\n",
    "                v.d = u.d+1\n",
    "                v.pi = u\n",
    "                Q.enqueue(v)\n",
    "        u.c = 2"
   ]
  },
  {
   "cell_type": "code",
   "execution_count": 5,
   "metadata": {
    "collapsed": true
   },
   "outputs": [],
   "source": [
    "a = Node(1, 0, float(\"Inf\"), None)\n",
    "b = Node(2, 0, float(\"Inf\"), None)\n",
    "c = Node(3, 0, float(\"Inf\"), None)\n",
    "d = Node(4, 0, float(\"Inf\"), None)\n",
    "e = Node(5, 0, float(\"Inf\"), None)\n",
    "a.adj = [b,c,e]\n",
    "b.adj = [d,e]\n",
    "c.adj = [d]\n",
    "d.adj = []\n",
    "e.adj = [d]"
   ]
  },
  {
   "cell_type": "code",
   "execution_count": 6,
   "metadata": {
    "collapsed": true
   },
   "outputs": [],
   "source": [
    "G = Graph([a,b,c,d,e], None)"
   ]
  },
  {
   "cell_type": "code",
   "execution_count": 7,
   "metadata": {
    "collapsed": true
   },
   "outputs": [],
   "source": [
    "BFS(G, a)"
   ]
  },
  {
   "cell_type": "code",
   "execution_count": 8,
   "metadata": {
    "collapsed": false
   },
   "outputs": [
    {
     "data": {
      "text/plain": [
       "2"
      ]
     },
     "execution_count": 8,
     "metadata": {},
     "output_type": "execute_result"
    }
   ],
   "source": [
    "d.d"
   ]
  },
  {
   "cell_type": "raw",
   "metadata": {},
   "source": [
    "#iteration implementation using a queue\n",
    "def bfs(graph, start):\n",
    "    visited, queue = set(), [start]\n",
    "    while queue:\n",
    "        vertex = queue.pop(0)\n",
    "        if vertex not in visited:\n",
    "            visited.add(vertex)\n",
    "            queue.extend(graph[vertex] - visited)\n",
    "    return visited"
   ]
  }
 ],
 "metadata": {
  "anaconda-cloud": {},
  "kernelspec": {
   "display_name": "Python [Root]",
   "language": "python",
   "name": "Python [Root]"
  },
  "language_info": {
   "codemirror_mode": {
    "name": "ipython",
    "version": 3
   },
   "file_extension": ".py",
   "mimetype": "text/x-python",
   "name": "python",
   "nbconvert_exporter": "python",
   "pygments_lexer": "ipython3",
   "version": "3.5.2"
  }
 },
 "nbformat": 4,
 "nbformat_minor": 0
}
