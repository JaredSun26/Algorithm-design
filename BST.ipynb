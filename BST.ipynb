{
 "cells": [
  {
   "cell_type": "code",
   "execution_count": 1,
   "metadata": {
    "collapsed": false
   },
   "outputs": [],
   "source": [
    "#BST class\n",
    "class BSTnode(object):\n",
    "    def __init__(self, v, left_child = None, right_child = None, parent = None):\n",
    "        self.p = parent\n",
    "        self.key = v\n",
    "        self.left = left_child\n",
    "        self.right = right_child\n",
    "    \n",
    "    def print_tree(self):\n",
    "        this_level = [self]\n",
    "        while this_level:\n",
    "            next_level = list()\n",
    "            for n in this_level:\n",
    "                print(n.key, end = \" \")\n",
    "                if n.left: next_level.append(n.left)\n",
    "                if n.right: next_level.append(n.right)\n",
    "            print(\"\\n\", end=\"\")\n",
    "            this_level = next_level      "
   ]
  },
  {
   "cell_type": "code",
   "execution_count": 2,
   "metadata": {
    "collapsed": false
   },
   "outputs": [],
   "source": [
    "def insert_node(root, node): #insert node into a BST\n",
    "    \n",
    "    y = None #insertion node\n",
    "    x = root #search node\n",
    "    while x is not None: #tree is not empty\n",
    "        y = x\n",
    "        if x.key > node.key:\n",
    "            x = x.left\n",
    "        else:\n",
    "            x = x.right\n",
    "    node.p = y\n",
    "    if y is None: #empty tree\n",
    "        root = node\n",
    "    elif y.key > node.key:\n",
    "        y.left = node\n",
    "    else:\n",
    "        y.right = node"
   ]
  },
  {
   "cell_type": "code",
   "execution_count": 3,
   "metadata": {
    "collapsed": true
   },
   "outputs": [],
   "source": [
    "def inorder_walk(r):\n",
    "    if r is not None:\n",
    "        inorder_walk(r.left)\n",
    "        print(r.key)\n",
    "        inorder_walk(r.right)"
   ]
  },
  {
   "cell_type": "code",
   "execution_count": 4,
   "metadata": {
    "collapsed": false
   },
   "outputs": [],
   "source": [
    "def tree_search(root, k):\n",
    "    while root is not None:\n",
    "        if k == root.key:\n",
    "            return(root)\n",
    "        elif k < root.key:\n",
    "            root = root.left\n",
    "        else:\n",
    "            root = root.right\n",
    "    return(root)"
   ]
  },
  {
   "cell_type": "code",
   "execution_count": 5,
   "metadata": {
    "collapsed": true
   },
   "outputs": [],
   "source": [
    "def tree_min(root):\n",
    "    while root.left is not None:\n",
    "        root = root.left\n",
    "    return(root)\n",
    "\n",
    "def tree_max(root):\n",
    "    while root.right is not None:\n",
    "        root = root.right\n",
    "    return(root)"
   ]
  },
  {
   "cell_type": "code",
   "execution_count": 6,
   "metadata": {
    "collapsed": false
   },
   "outputs": [
    {
     "name": "stdout",
     "output_type": "stream",
     "text": [
      "4 \n",
      "2 5 \n",
      "1 3 7 \n"
     ]
    }
   ],
   "source": [
    "r = BSTnode(4)\n",
    "for i in [2,5,1,3,7]:\n",
    "    insert_node(r, BSTnode(i))\n",
    "r.print_tree()"
   ]
  }
 ],
 "metadata": {
  "kernelspec": {
   "display_name": "Python [Root]",
   "language": "python",
   "name": "Python [Root]"
  },
  "language_info": {
   "codemirror_mode": {
    "name": "ipython",
    "version": 3
   },
   "file_extension": ".py",
   "mimetype": "text/x-python",
   "name": "python",
   "nbconvert_exporter": "python",
   "pygments_lexer": "ipython3",
   "version": "3.5.2"
  }
 },
 "nbformat": 4,
 "nbformat_minor": 0
}
