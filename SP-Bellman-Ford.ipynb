{
 "cells": [
  {
   "cell_type": "code",
   "execution_count": 1,
   "metadata": {
    "collapsed": true
   },
   "outputs": [],
   "source": [
    "#Define graph class\n",
    "import numpy as np\n",
    "import heapq\n",
    "import copy\n",
    "class vertex(object):\n",
    "    def __init__(self, node):\n",
    "        self.id = node\n",
    "        self.key = None\n",
    "        self.p = None\n",
    "        self.adj = None\n",
    "    #define __lt__ to accomendate heap operations\n",
    "    def __lt__(self, other):\n",
    "        return self.key < other.key\n",
    "\n",
    "class edge(object):\n",
    "    def __init__(self, edge, start, end, weight):\n",
    "        self.id = edge\n",
    "        self.start = start\n",
    "        self.end = end\n",
    "        self.weight = weight\n",
    "        \n",
    "        \n",
    "class graph(object):\n",
    "    def __init__(self, adj_matrix):\n",
    "        self.adj = adj_matrix\n",
    "        \n",
    "        self.v = [vertex(node = i) for i in range(self.adj.shape[0])]\n",
    "        for vert in self.v:\n",
    "            indx = np.where(self.adj[vert.id,:] != float('inf'))\n",
    "            vert.adj = [self.v[i] for i in indx[0]]\n",
    "        \n",
    "        self.e = []\n",
    "        cnt = 0\n",
    "        for i in range(self.adj.shape[0]):\n",
    "            for j in range(self.adj.shape[1]):\n",
    "                if self.adj[i,j] != float('Inf'):\n",
    "                    self.e.append(edge(edge = cnt,\n",
    "                                  start = i,\n",
    "                                  end = j,\n",
    "                                  weight = self.adj[i,j]))\n",
    "                    cnt += 1\n",
    "                    \n",
    "    def get_weight(self, start_id, end_id):\n",
    "        return(self.adj[start_id, end_id])    "
   ]
  },
  {
   "cell_type": "code",
   "execution_count": 20,
   "metadata": {
    "collapsed": true
   },
   "outputs": [],
   "source": [
    "def bf(g, s):\n",
    "    #initialization\n",
    "    for v in g.v:\n",
    "        v.key = float('inf')\n",
    "        v.p = None\n",
    "    s.key = 0\n",
    "    for i in range(len(g.e)-1):\n",
    "        for e in g.e:\n",
    "            if g.v[e.end].key > g.v[e.start].key + e.weight:\n",
    "                g.v[e.end].key = g.v[e.start].key + e.weight\n",
    "                g.v[e.end].p = e.start\n",
    "    for e in g.e:\n",
    "        if g.v[e.end].key > g.v[e.start].key + e.weight:\n",
    "            return(False)\n",
    "    return(True)"
   ]
  },
  {
   "cell_type": "code",
   "execution_count": 21,
   "metadata": {
    "collapsed": true
   },
   "outputs": [],
   "source": [
    "#define the example network\n",
    "adj_matrix = np.empty([9,9])\n",
    "adj_matrix[:] = float('Inf')\n",
    "adj_matrix\n",
    "edges = {(0,1): 4, (0,7): 8,\n",
    "         (1,0): 4, (1,2): 8, (1,7): 11,\n",
    "         (2,1): 8, (2,3): 7, (2,5): 4, (2,8): 2,\n",
    "         (3,2): 7, (3,4): 9, (3,5): 14,\n",
    "         (4,3): 9, (4,5): 10,\n",
    "         (5,2): 4, (5,3): 14, (5,4): 10, (5,6): 2,\n",
    "         (6,5): 2, (6,7): 1, (6,8): 6,\n",
    "         (7,0): 8, (7,1): 11, (7,6): 1, (7,8): 7,\n",
    "         (8,2): 2, (8,6): 6, (8,7): 7\n",
    "        }\n",
    "for key, value in edges.items():\n",
    "    adj_matrix[key] = value"
   ]
  },
  {
   "cell_type": "code",
   "execution_count": 22,
   "metadata": {
    "collapsed": false
   },
   "outputs": [
    {
     "data": {
      "text/plain": [
       "True"
      ]
     },
     "execution_count": 22,
     "metadata": {},
     "output_type": "execute_result"
    }
   ],
   "source": [
    "g = graph(adj_matrix)\n",
    "bf(g, g.v[0])"
   ]
  },
  {
   "cell_type": "code",
   "execution_count": 23,
   "metadata": {
    "collapsed": false
   },
   "outputs": [
    {
     "name": "stdout",
     "output_type": "stream",
     "text": [
      "[(None, 0), (0, 1), (1, 2), (2, 3), (5, 4), (6, 5), (7, 6), (0, 7), (2, 8)]\n"
     ]
    }
   ],
   "source": [
    "print([(x.p, x.id) for x in g.v])"
   ]
  }
 ],
 "metadata": {
  "kernelspec": {
   "display_name": "Python [Root]",
   "language": "python",
   "name": "Python [Root]"
  },
  "language_info": {
   "codemirror_mode": {
    "name": "ipython",
    "version": 3
   },
   "file_extension": ".py",
   "mimetype": "text/x-python",
   "name": "python",
   "nbconvert_exporter": "python",
   "pygments_lexer": "ipython3",
   "version": "3.5.2"
  }
 },
 "nbformat": 4,
 "nbformat_minor": 0
}
