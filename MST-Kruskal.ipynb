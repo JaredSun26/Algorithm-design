{
 "cells": [
  {
   "cell_type": "code",
   "execution_count": 107,
   "metadata": {
    "collapsed": true
   },
   "outputs": [],
   "source": [
    "#undirected edge\n",
    "class edge(object):\n",
    "    def __init__(self, start, end, weight):\n",
    "        self.start = start\n",
    "        self.end = end\n",
    "        self.weight = weight"
   ]
  },
  {
   "cell_type": "code",
   "execution_count": 108,
   "metadata": {
    "collapsed": false
   },
   "outputs": [],
   "source": [
    "class disjoint_set(object):\n",
    "    def __init__(self):\n",
    "        self.sets = []\n",
    "    def make_set(self, x):\n",
    "        self.sets.append([x])\n",
    "    def find_set(self, x):\n",
    "        out = None\n",
    "        for one_set in self.sets:\n",
    "            if x in one_set:\n",
    "                out = one_set\n",
    "        return(out)\n",
    "    \n",
    "    def union(self, x, y):\n",
    "        set1 = self.find_set(x)\n",
    "        set2 = self.find_set(y)\n",
    "        if set1 != set2:\n",
    "            set1.extend(set2)\n",
    "            self.sets.remove(set2)"
   ]
  },
  {
   "cell_type": "code",
   "execution_count": 124,
   "metadata": {
    "collapsed": false
   },
   "outputs": [],
   "source": [
    "def kruskal(E, V):\n",
    "    a = set()\n",
    "    dist = disjoint_set()\n",
    "    for v in V:\n",
    "        dist.make_set(v)\n",
    "    E_sorted = sorted(E, key = lambda x:x.weight)\n",
    "    for e in E_sorted:\n",
    "        if dist.find_set(e.start) != dist.find_set(e.end):\n",
    "            a.add(e)\n",
    "            dist.union(e.start, e.end)\n",
    "    return(a)"
   ]
  },
  {
   "cell_type": "code",
   "execution_count": 125,
   "metadata": {
    "collapsed": false
   },
   "outputs": [],
   "source": [
    "a = edge(1, 2, 2)\n",
    "b = edge(2, 4, 5)\n",
    "c = edge(4, 6, 4)\n",
    "d = edge(1, 3, 1)\n",
    "e = edge(3, 4, 3)\n",
    "f = edge(3, 5, 7)\n",
    "g = edge(5, 6, 2)"
   ]
  },
  {
   "cell_type": "code",
   "execution_count": 126,
   "metadata": {
    "collapsed": true
   },
   "outputs": [],
   "source": [
    "E = [a,b,c,d,e,f,g]\n",
    "V = [1,2,3,4,5,6]"
   ]
  },
  {
   "cell_type": "code",
   "execution_count": 127,
   "metadata": {
    "collapsed": false
   },
   "outputs": [],
   "source": [
    "a = kruskal(E, V)"
   ]
  },
  {
   "cell_type": "code",
   "execution_count": 130,
   "metadata": {
    "collapsed": false
   },
   "outputs": [
    {
     "name": "stdout",
     "output_type": "stream",
     "text": [
      "1 , 2 : 2\n",
      "3 , 4 : 3\n",
      "1 , 3 : 1\n",
      "4 , 6 : 4\n",
      "5 , 6 : 2\n"
     ]
    }
   ],
   "source": [
    "for e in a:\n",
    "    print(e.start,\",\", e.end,\":\",e.weight)"
   ]
  },
  {
   "cell_type": "code",
   "execution_count": null,
   "metadata": {
    "collapsed": true
   },
   "outputs": [],
   "source": []
  }
 ],
 "metadata": {
  "anaconda-cloud": {},
  "kernelspec": {
   "display_name": "Python [Root]",
   "language": "python",
   "name": "Python [Root]"
  },
  "language_info": {
   "codemirror_mode": {
    "name": "ipython",
    "version": 3
   },
   "file_extension": ".py",
   "mimetype": "text/x-python",
   "name": "python",
   "nbconvert_exporter": "python",
   "pygments_lexer": "ipython3",
   "version": "3.5.2"
  }
 },
 "nbformat": 4,
 "nbformat_minor": 0
}
