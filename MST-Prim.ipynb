{
 "cells": [
  {
   "cell_type": "code",
   "execution_count": 57,
   "metadata": {
    "collapsed": false
   },
   "outputs": [],
   "source": [
    "#define edge\n",
    "import numpy as np\n",
    "import heapq\n",
    "import copy\n",
    "class vertex(object):\n",
    "    def __init__(self, node):\n",
    "        self.id = node\n",
    "        self.key = None\n",
    "        self.p = None\n",
    "    def __lt__(self, other):\n",
    "        return self.key < other.key\n",
    "\n",
    "#undirected edges\n",
    "class edge(object):\n",
    "    def __init__(self, edge, start, end, weight):\n",
    "        self.id = edge\n",
    "        self.start = start\n",
    "        self.end = end\n",
    "        self.weight = weight"
   ]
  },
  {
   "cell_type": "code",
   "execution_count": 77,
   "metadata": {
    "collapsed": false
   },
   "outputs": [],
   "source": [
    "class graph(object):\n",
    "    def __init__(self, adj_matrix):\n",
    "        self.adj = adj_matrix\n",
    "        \n",
    "        self.v = [vertex(node = i) for i in range(self.adj.shape[0])]\n",
    "        for vert in self.v:\n",
    "            indx = np.where(self.adj[vert.id,:] != float('inf'))\n",
    "            vert.adj = [self.v[i] for i in indx[0]]\n",
    "        \n",
    "        self.e = []\n",
    "        cnt = 0\n",
    "        for i in range(self.adj.shape[0]):\n",
    "            for j in range(self.adj.shape[1]):\n",
    "                if self.adj[i,j] != float('Inf'):\n",
    "                    self.e.append(edge(edge = cnt,\n",
    "                                  start = i,\n",
    "                                  end = j,\n",
    "                                  weight = self.adj[i,j]))\n",
    "                    cnt += 1\n",
    "                    \n",
    "    def get_weight(self, start_id, end_id):\n",
    "        return(self.adj[start_id, end_id])    "
   ]
  },
  {
   "cell_type": "code",
   "execution_count": 126,
   "metadata": {
    "collapsed": false
   },
   "outputs": [],
   "source": [
    "def prim(g, r_id):\n",
    "    for v in g.v:\n",
    "        v.key = float('inf')\n",
    "        v.p = None\n",
    "    g.v[r_id].key = 0\n",
    "    q = []\n",
    "    for vex in g.v:\n",
    "        heapq.heappush(q, vex)\n",
    "    while len(q) != 0:\n",
    "        u = heapq.heappop(q)\n",
    "        for v in u.adj:\n",
    "            if (v in q) and (g.get_weight(u.id, v.id) < v.key):\n",
    "                v.p = u.id\n",
    "                v.key = g.get_weight(u.id, v.id)\n",
    "                heapq.heapify(q)"
   ]
  },
  {
   "cell_type": "code",
   "execution_count": 127,
   "metadata": {
    "collapsed": false
   },
   "outputs": [],
   "source": [
    "adj_matrix = np.empty([9,9])\n",
    "adj_matrix[:] = float('Inf')\n",
    "adj_matrix\n",
    "edges = {(0,1): 4, (0,7): 8,\n",
    "         (1,0): 4, (1,2): 8, (1,7): 11,\n",
    "         (2,1): 8, (2,3): 7, (2,5): 4, (2,8): 2,\n",
    "         (3,2): 7, (3,4): 9, (3,5): 14,\n",
    "         (4,3): 9, (4,5): 10,\n",
    "         (5,2): 4, (5,3): 14, (5,4): 10, (5,6): 2,\n",
    "         (6,5): 2, (6,7): 1, (6,8): 6,\n",
    "         (7,0): 8, (7,1): 11, (7,6): 1, (7,8): 7,\n",
    "         (8,2): 2, (8,6): 6, (8,7): 7\n",
    "        }\n",
    "for key, value in edges.items():\n",
    "    adj_matrix[key] = value"
   ]
  },
  {
   "cell_type": "code",
   "execution_count": 128,
   "metadata": {
    "collapsed": false,
    "scrolled": true
   },
   "outputs": [
    {
     "data": {
      "text/plain": [
       "array([[ inf,   4.,  inf,  inf,  inf,  inf,  inf,   8.,  inf],\n",
       "       [  4.,  inf,   8.,  inf,  inf,  inf,  inf,  11.,  inf],\n",
       "       [ inf,   8.,  inf,   7.,  inf,   4.,  inf,  inf,   2.],\n",
       "       [ inf,  inf,   7.,  inf,   9.,  14.,  inf,  inf,  inf],\n",
       "       [ inf,  inf,  inf,   9.,  inf,  10.,  inf,  inf,  inf],\n",
       "       [ inf,  inf,   4.,  14.,  10.,  inf,   2.,  inf,  inf],\n",
       "       [ inf,  inf,  inf,  inf,  inf,   2.,  inf,   1.,   6.],\n",
       "       [  8.,  11.,  inf,  inf,  inf,  inf,   1.,  inf,   7.],\n",
       "       [ inf,  inf,   2.,  inf,  inf,  inf,   6.,   7.,  inf]])"
      ]
     },
     "execution_count": 128,
     "metadata": {},
     "output_type": "execute_result"
    }
   ],
   "source": [
    "adj_matrix"
   ]
  },
  {
   "cell_type": "code",
   "execution_count": 129,
   "metadata": {
    "collapsed": false,
    "scrolled": false
   },
   "outputs": [],
   "source": [
    "g = graph(adj_matrix)\n",
    "prim(g, 0)"
   ]
  },
  {
   "cell_type": "code",
   "execution_count": 130,
   "metadata": {
    "collapsed": false,
    "scrolled": true
   },
   "outputs": [
    {
     "data": {
      "text/plain": [
       "[(0, None, 0),\n",
       " (1, 0, 4.0),\n",
       " (2, 1, 8.0),\n",
       " (3, 2, 7.0),\n",
       " (4, 3, 9.0),\n",
       " (5, 2, 4.0),\n",
       " (6, 5, 2.0),\n",
       " (7, 6, 1.0),\n",
       " (8, 2, 2.0)]"
      ]
     },
     "execution_count": 130,
     "metadata": {},
     "output_type": "execute_result"
    }
   ],
   "source": [
    "[(w.id, w.p, w.key) for w in g.v]"
   ]
  }
 ],
 "metadata": {
  "kernelspec": {
   "display_name": "Python [Root]",
   "language": "python",
   "name": "Python [Root]"
  },
  "language_info": {
   "codemirror_mode": {
    "name": "ipython",
    "version": 3
   },
   "file_extension": ".py",
   "mimetype": "text/x-python",
   "name": "python",
   "nbconvert_exporter": "python",
   "pygments_lexer": "ipython3",
   "version": "3.5.2"
  }
 },
 "nbformat": 4,
 "nbformat_minor": 0
}
