{
 "cells": [
  {
   "cell_type": "code",
   "execution_count": 4,
   "metadata": {
    "collapsed": false
   },
   "outputs": [],
   "source": [
    "#define edge\n",
    "import heapq\n",
    "class vertex(object):\n",
    "    def __init__(self, node, adj_list):\n",
    "        self.id = node\n",
    "        self.adj = adj_list\n",
    "        self.weight = weight\n",
    "        self.key = None\n",
    "        self.p = None\n",
    "\n",
    "#undirected edges\n",
    "class edge(object):\n",
    "    def __init__(self, edge, \n",
    "        \n",
    "\n",
    "\n",
    "        "
   ]
  },
  {
   "cell_type": "code",
   "execution_count": null,
   "metadata": {
    "collapsed": true
   },
   "outputs": [],
   "source": [
    "class graph(object):\n",
    "    def __init__(self, adj_matrix):\n",
    "        self.adj = adj_matrix\n",
    "        self.v = self.adj_matrix.keys()\n",
    "        self.\n",
    "        \n",
    "    def adj(a):\n",
    "        return(graph['a'])\n",
    "    \n",
    "        \n",
    "graph = {'a':['b', 'h'],\n",
    "         'b':['a', 'c'],\n",
    "         'c':['b', 'd', 'i', 'f'],\n",
    "         'd':['c', 'f', 'e'],\n",
    "         'e':['d', 'f'],\n",
    "         'f':['e', 'd', 'c', 'g'],\n",
    "         'g':['f', 'i', 'h'],\n",
    "         'h':['g', 'i', 'b', 'a'],\n",
    "         'i':['h', 'g', 'c']\n",
    "        }\n",
    "\n",
    "w."
   ]
  }
 ],
 "metadata": {
  "kernelspec": {
   "display_name": "Python [Root]",
   "language": "python",
   "name": "Python [Root]"
  },
  "language_info": {
   "codemirror_mode": {
    "name": "ipython",
    "version": 3
   },
   "file_extension": ".py",
   "mimetype": "text/x-python",
   "name": "python",
   "nbconvert_exporter": "python",
   "pygments_lexer": "ipython3",
   "version": "3.5.2"
  }
 },
 "nbformat": 4,
 "nbformat_minor": 0
}
